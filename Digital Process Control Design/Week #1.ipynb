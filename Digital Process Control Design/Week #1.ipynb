{
 "cells": [
  {
   "cell_type": "markdown",
   "metadata": {},
   "source": [
    "# Lecture 1\n",
    "\n",
    "## Review Test\n",
    "\n",
    "* Bode Plot\n",
    "* Root Locus\n",
    "* Routh Hurwitz\n",
    "* Stability based on RL and RH\n",
    "* 1st and 2nd order step response\n",
    "\n",
    "## Proposal\n",
    "Next week thursday (16/01/18), hard copy, give to Julie\n"
   ]
  },
  {
   "cell_type": "markdown",
   "metadata": {},
   "source": [
    "# What's Controls?\n",
    "* Make the system do what we want.\n",
    "    * Real systems have real limitations\n",
    "    * Ask yourself what is required to achieve the output\n",
    "* Reliability or repeatibility - \"robustness\"\n",
    "\n",
    "    \n",
    "    \n",
    "\n"
   ]
  },
  {
   "cell_type": "markdown",
   "metadata": {},
   "source": [
    "# Lecture 2\n",
    "## 3410 Review\n",
    "\n",
    "### Root Locus Drawing\n",
    "Know how to draw the root locus approximately, don't need to know how to calculate breakaway points, angles of deperture, little details, just need back of the envelope approximations.\n",
    "Things to know\n",
    "- Centroid calculation: $\\sigma = \\frac{\\sum P - \\sum Z}{P - Z}$, where $Z =$ zeroes and $P =$ poles\n",
    "- Angle of asymptotes, passing through centroid $\\theta_a = \\left(\\frac{2a + 1}{P - Z}\\right)180^{\\circ}$, where a denotes the number of the respective asymptote.\n",
    "- Root locus starts at poles, moves to zeros. Unpaired poles move to infinity, unpaired zeros come from infinity.\n",
    "- (No, yes, No): Segments of the root locus on the real axis follow this pattern from right to left.\n",
    "\n",
    "### Bode Plots\n",
    "#### Magnitude Plot\n",
    "- Left of a zero, increase by 10dB per decade\n",
    "- Right of a pole, decrease by 10db per decade\n",
    "- Label midband with the gain of the system\n",
    "- Label both axis\n",
    "\n",
    "#### Phase Plot\n",
    "- If the sign of the transfer function is negative, the phase plot starts at -180$^{\\circ}$\n",
    "- Poles and zeros at 0, subtract an additional 90$^{\\circ}$ or add an additional 90$^{\\circ}$\n",
    "- Around negative poles and zeros\n",
    "\n",
    "Imaginary components of poles and zeros are scary, don't know how to do these yet, don't know if we need to know.\n",
    "http://lpsa.swarthmore.edu/Bode/underdamped/underdampedApprox.html \n",
    "\n",
    "Phase and Gain Margins, consult Brian Douglas:\n",
    "https://www.youtube.com/watch?v=ThoA4amCAX4&t\n",
    "\n",
    "#### Gain Margin \n",
    "The difference in gain between the system and 0db at 180$^{\\circ}$. \n",
    "\n",
    "Gain Margin = 0db - $|G(s)|_{180^{\\circ}}$\n",
    "\n",
    "#### Phase Margin\n",
    "The difference between 180$^{\\circ}$ on the phase plot and 0db on the gain plot.\n",
    "\n",
    "## Linearization\n",
    "We want to get the first approximation of the system around the desired setpoint. Take the first derivative of the system, with respect to all available variables. Example:\n",
    "\\begin{align}\n",
    "sin(r)\\ddot{y} + r^2 - 13 = \\dot{r} + \\frac{r}{y}\n",
    "\\end{align}\n",
    "\n",
    "\\begin{align}\n",
    "\\frac{\\partial sin(r)\\ddot{y}}{\\partial \\ddot{y}}\\Delta\\ddot{y} + \\frac{\\partial sin(r)\\ddot{y}}{\\partial r}\\Delta r  + \\frac{\\partial r^2}{\\partial r}\\Delta r = \\frac{\\partial \\dot{r}}{\\partial \\dot{r}}\\Delta \\dot{r} +\\frac{\\partial}{\\partial {r}}\\frac{r}{y} \\Delta r + \\frac{\\partial}{\\partial {y}}\\frac{r}{y} \\Delta y\n",
    "\\end{align}\n",
    "\n",
    "\\begin{align}\n",
    "sin(r_0)\\Delta\\ddot{y} + cos(r_0)\\ddot{y}_0\\Delta r + 2r_0\\Delta r= \\Delta\\dot{r} + \\frac{\\Delta r}{y} + \\frac{r \\Delta y}{y_0^2}\n",
    "\\end{align}\n",
    "\n",
    "We assume that at the desired setpoint, system is not accelerating or moving, stable system sits at setpoint, hence $\\ddot{y_0} = 0$.\n",
    "\n",
    "\\begin{align}\n",
    "sin(r_0)\\Delta\\ddot{y} + 2r_0\\Delta r= \\Delta\\dot{r} + \\frac{\\Delta r}{y} + \\frac{r \\Delta y}{y_0^2}\n",
    "\\end{align}\n",
    "\n",
    "Now we have a transfer function of constant coefficients and time derivatives.\n",
    "\\begin{align}\n",
    "\\Delta Y(S)\\left(sin(r_0)s^2 - \\frac{r_0}{y_0^2}\\right) = \\Delta R(S) \\left(s - 2r_0 + \\frac{1}{y_0}\\right)\n",
    "\\end{align}"
   ]
  },
  {
   "cell_type": "code",
   "execution_count": null,
   "metadata": {
    "collapsed": false
   },
   "outputs": [],
   "source": [
    ")"
   ]
  },
  {
   "cell_type": "code",
   "execution_count": null,
   "metadata": {
    "collapsed": false
   },
   "outputs": [],
   "source": []
  },
  {
   "cell_type": "code",
   "execution_count": null,
   "metadata": {
    "collapsed": true
   },
   "outputs": [],
   "source": []
  }
 ],
 "metadata": {
  "anaconda-cloud": {},
  "kernelspec": {
   "display_name": "Python [conda root]",
   "language": "python",
   "name": "conda-root-py"
  },
  "language_info": {
   "codemirror_mode": {
    "name": "ipython",
    "version": 2
   },
   "file_extension": ".py",
   "mimetype": "text/x-python",
   "name": "python",
   "nbconvert_exporter": "python",
   "pygments_lexer": "ipython2",
   "version": "2.7.12"
  }
 },
 "nbformat": 4,
 "nbformat_minor": 1
}
